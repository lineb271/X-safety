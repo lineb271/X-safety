{
 "cells": [
  {
   "cell_type": "markdown",
   "metadata": {},
   "source": [
    "## importations"
   ]
  },
  {
   "cell_type": "code",
   "execution_count": null,
   "metadata": {},
   "outputs": [],
   "source": [
    "import matplotlib.pyplot as plt\n",
    "import numpy as np\n",
    "from trafficintelligence import events\n",
    "import makesimulation\n",
    "import network\n",
    "import simulation\n",
    "import toolkit"
   ]
  },
  {
   "cell_type": "markdown",
   "metadata": {},
   "source": [
    "## chargement des fichiers"
   ]
  },
  {
   "cell_type": "code",
   "execution_count": null,
   "metadata": {},
   "outputs": [],
   "source": [
    "world = network.World.load('cross-net.yml')\n",
    "sim = simulation.Simulation.load('config.yml')"
   ]
  },
  {
   "cell_type": "markdown",
   "metadata": {},
   "source": [
    "## definition des seeds et headways a modifier"
   ]
  },
  {
   "cell_type": "code",
   "execution_count": null,
   "metadata": {},
   "outputs": [],
   "source": [
    "seeds = [7878, 4368, 65984, 98, 420, 4389, 52, 33, 0, 110]\n",
    "headways = [1.5, 1.8, 2, 2.5]"
   ]
  },
  {
   "cell_type": "code",
   "execution_count": null,
   "metadata": {},
   "outputs": [],
   "source": [
    "interactions = {}\n",
    "usersCount = {}\n",
    "for seed in seeds:\n",
    "    print(seed)\n",
    "    usersCount[seed] = {}\n",
    "    interactions[seed] = {}\n",
    "    for h in headways:\n",
    "        print(h)\n",
    "        interactions[seed][h] = {}\n",
    "        world = network.World.load('cross-net.yml')\n",
    "        sim.seed = seed\n",
    "        world.userInputs[1].distributions['headway'].scale = h-world.userInputs[1].distributions['headway'].loc\n",
    "        world = makesimulation.run(world, sim)\n",
    "        usersCount[seed][h] = world.getNotNoneVehiclesInWorld()\n",
    "        for generatedUserByFistUI in range(len(world.userInputs[0].alignment.users)):\n",
    "            roadUser1 = world.userInputs[0].alignment.users[generatedUserByFistUI]\n",
    "            for generatedUserBySecondUI in range(len(world.userInputs[1].alignment.users)):\n",
    "                roadUser2 = world.userInputs[1].alignment.users[generatedUserBySecondUI]\n",
    "                if roadUser1.timeInterval is not None and roadUser2.timeInterval is not None:\n",
    "                    interactions[seed][h][(roadUser1.num, roadUser2.num)] = []\n",
    "                    i = events.Interaction(useCurvilinear=True, roadUser1=roadUser1, roadUser2=roadUser2)\n",
    "                    i.computeIndicators(world=world, alignment1=world.travelledAlignments(roadUser1), alignment2=world.travelledAlignments(roadUser2))\n",
    "                    interactions[seed][h][(roadUser1.num, roadUser2.num)].append(i)\n",
    "toolkit.allWhenDone()"
   ]
  },
  {
   "cell_type": "markdown",
   "metadata": {},
   "source": [
    "## obtention des distances minimales"
   ]
  },
  {
   "cell_type": "code",
   "execution_count": null,
   "metadata": {},
   "outputs": [],
   "source": [
    "minDistanceList = {} # liste des distances minimales pour chaque simulation, pour chaque headway testé\n",
    "for h in headways:\n",
    "    minDistanceList[h] = []\n",
    "    for seed in seeds:\n",
    "        minDistance = []\n",
    "        for inter in interactions[seed][h]:\n",
    "            if list(interactions[seed][h][inter][0].indicators['Distance'].values.values()) != []:\n",
    "                minDistance.append(abs(min(interactions[seed][h][inter][0].indicators['Distance'].values.values())))\n",
    "        minDistanceList[h].append(minDistance)"
   ]
  },
  {
   "cell_type": "markdown",
   "metadata": {},
   "source": [
    "## determination du nombre minimal de repetititions a effectuer"
   ]
  },
  {
   "cell_type": "code",
   "execution_count": null,
   "metadata": {},
   "outputs": [],
   "source": [
    "# mean-std for number of collisions\n",
    "collisionNumbers = {}\n",
    "for h in headways:\n",
    "    collisions = []\n",
    "    for liste in minDistanceList[h]:\n",
    "        if liste!= []:\n",
    "            collisions.append(sum(1 for x in liste if x < 8)/len(liste))\n",
    "    collisionNumbers[h] = (np.mean(collisions), np.std(collisions))\n",
    "\n",
    "# mean-std for minimum interaction distances\n",
    "meanAndSTDminDistance = {}\n",
    "for h in headways:\n",
    "    _temp = []\n",
    "    for el in minDistanceList[h]:\n",
    "        _temp.append(np.mean(el))\n",
    "    meanAndSTDminDistance[h] = (np.mean(_temp), np.std(_temp))\n",
    "\n",
    "# nombre minimal de repetitiosn a effectuer avant convergence des indicateurs\n",
    "Nlist = {}\n",
    "for h in headways:\n",
    "    NCOL = (2.015*collisionNumbers[h][1]/(collisionNumbers[h][0]*.1))**2\n",
    "    NNUM = (2.015*meanAndSTDminDistance[h][1]/(meanAndSTDminDistance[h][0]*.1))**2\n",
    "    Nlist[h] = max(NCOL, NNUM)"
   ]
  },
  {
   "cell_type": "markdown",
   "metadata": {},
   "source": [
    "## display : repartition des distances minimales d'interaction"
   ]
  },
  {
   "cell_type": "code",
   "execution_count": null,
   "metadata": {},
   "outputs": [],
   "source": [
    "# display\n",
    "plt.close('all')\n",
    "for h in headways:\n",
    "    plt.figure(num=0)\n",
    "    _temp, bins, _ = plt.hist(minDistanceList[h], density=True)\n",
    "    plt.close(0)\n",
    "    plt.figure(num=1)\n",
    "    _toPlot = np.average(_temp, axis=0)\n",
    "    plt.plot([k for k in range(0,50,5)], _toPlot)\n",
    "plt.xlabel('temps inter-véhiculaire moyen(s)')\n",
    "plt.ylabel('fréquences')\n",
    "plt.legend([str(h) for h in headways])\n",
    "plt.savefig('fig1.png')"
   ]
  },
  {
   "cell_type": "markdown",
   "metadata": {},
   "source": [
    "## display : nombre de collisions / nombre de paire de vehicules a l'intersection"
   ]
  },
  {
   "cell_type": "code",
   "execution_count": null,
   "metadata": {},
   "outputs": [],
   "source": [
    "plt.close('all')\n",
    "plt.plot(headways, [x[0] for x in collisionNumbers.values()], color='blue')\n",
    "sup = [x[0]+x[1] for x in collisionNumbers.values()]\n",
    "inf = [x[0]-x[1] for x in collisionNumbers.values()]\n",
    "plt.fill_between(headways, sup, inf, alpha=.4, color='lightblue')\n",
    "plt.savefig('fig2.png')\n",
    "plt.close('all')"
   ]
  }
 ],
 "metadata": {
  "kernelspec": {
   "display_name": "Python 3",
   "language": "python",
   "name": "python3"
  },
  "language_info": {
   "codemirror_mode": {
    "name": "ipython",
    "version": 3
   },
   "file_extension": ".py",
   "mimetype": "text/x-python",
   "name": "python",
   "nbconvert_exporter": "python",
   "pygments_lexer": "ipython3",
   "version": "3.7.0"
  }
 },
 "nbformat": 4,
 "nbformat_minor": 2
}
