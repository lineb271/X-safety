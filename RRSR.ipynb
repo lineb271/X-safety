{
 "cells": [
  {
   "cell_type": "markdown",
   "metadata": {},
   "source": [
    "# Analyse de l'influence des distributions des temps inter-véhiculaires sur un axe routier"
   ]
  },
  {
   "cell_type": "markdown",
   "metadata": {},
   "source": [
    "Paramètres de simulation:\n",
    "- 1 voie\n",
    "- longueur de la voie : 15900 m\n",
    "- présence d'outils de contrôle de la circulation : non\n",
    "- paramètres de distribution \n",
    "    <br/> dn -> N(8.33, 1) [m]\n",
    "    <br/> longueur -> N(7, 1) [m]\n",
    "    <br/> vitesse -> N(14, 3) [m.s^-1]\n",
    "    <br/> t -> N(2, 0.5) [s]\n",
    "- durée de la simulation : 500 s = 5000 1/10s   \n",
    "- seed pour reproductibilité : 45"
   ]
  },
  {
   "cell_type": "markdown",
   "metadata": {},
   "source": [
    "import des librairies:"
   ]
  },
  {
   "cell_type": "code",
   "execution_count": 51,
   "metadata": {
    "scrolled": true
   },
   "outputs": [],
   "source": [
    "import numpy as np  \n",
    "import network, simulation, toolkit\n",
    "import makesimulation \n",
    "import matplotlib.pyplot as plt\n",
    "import analysis\n",
    "import statistics\n",
    "import seaborn\n",
    "from trafficintelligence import events, moving"
   ]
  },
  {
   "cell_type": "markdown",
   "metadata": {},
   "source": [
    "Récupération des fichiers initiaux"
   ]
  },
  {
   "cell_type": "code",
   "execution_count": 52,
   "metadata": {},
   "outputs": [],
   "source": [
    "world = network.World.load('simple-net.yml')  \n",
    "sim = simulation.Simulation.load('config.yml')"
   ]
  },
  {
   "cell_type": "markdown",
   "metadata": {},
   "source": [
    "- headways -> Exp(1.8, 1)\n",
    "</br> On décalle la distribution à 1s % les temps inter-véhiculaires produits ne seront pas inférieurs à cette valeur"
   ]
  },
  {
   "cell_type": "code",
   "execution_count": 43,
   "metadata": {},
   "outputs": [],
   "source": [
    "# # liste des headways a essayer:\n",
    "# #headways = [x for x in np.arange(.5,2.1,.1)]\n",
    "# headways = [.5]#, 1]#, 1.5]\n",
    "# # colors = ['y']#, 'b']#, 'r']\n",
    "# hList = []\n",
    "# cList = []\n",
    "# plt.figure(num=0)\n",
    "# for h in headways:\n",
    "#     # modification des paramètres dans simple-net.yml\n",
    "#     # au cas ou\n",
    "#     world = network.World.load('simple-net.yml')  \n",
    "#     world.userInputs[0].distributions['headway'].scale = h\n",
    "\n",
    "#     # running the simulation\n",
    "#     world = makesimulation.run(world, sim)\n",
    "#     print('trying headway = {}'.format(1+h))\n",
    "\n",
    "#     #get number of interactions\n",
    "#     interactionDuration = world.getInteractionsDuration(dmin=25, inLine=True)\n",
    "#     for pair in interactionDuration:\n",
    "#         analysis.getDistanceValuesBetweenUsers(world, world.getUserByNum(pair[0]), world.getUserByNum(pair[1]), 0, True)\n",
    "# plt.show()\n",
    "    \n",
    "    "
   ]
  },
  {
   "cell_type": "code",
   "execution_count": null,
   "metadata": {
    "scrolled": true
   },
   "outputs": [],
   "source": [
    "# liste des seeds a tester\n",
    "seeds = [45]#,46]#,47,48,49,50]\n",
    "\n",
    "\n",
    "for seed in seeds:\n",
    "    sim.seed = seed\n",
    "\n",
    "    # liste des headways a essayer:\n",
    "    headways = [1.5, 1.7]#, 1.9, 2.1 2.1, 2.3, 2.5]#, 1.6, 1.8, 2, 2.2]#, 2.4, 2.6, 2.8]\n",
    "    cList = []\n",
    "    fig0 = plt.figure(num=0)\n",
    "    cList = {}\n",
    "    durationList = {}\n",
    "    durationList2 = {}\n",
    "\n",
    "\n",
    "    for h in headways:\n",
    "        # modification des paramètres dans simple-net.yml\n",
    "        world = network.World.load('simple-net.yml')  \n",
    "        world.userInputs[0].distributions['headway'].scale = h-world.userInputs[0].distributions['headway'].loc\n",
    "\n",
    "        # running the simulation\n",
    "        world = makesimulation.run(world, sim)\n",
    "        \n",
    "        # distribution des distances minimales d'interaction\n",
    "        interactions = []\n",
    "        # 1ere etape : recuperer la liste des interactions entre chaque paire de vehicules\n",
    "        for k in range(len(world.userInputs[0].alignment.users)-1):\n",
    "            roadUser1 = world.userInputs[0].alignment.users[k]\n",
    "            roadUser2 = world.userInputs[0].alignment.users[k+1]\n",
    "            if roadUser1.timeInterval is not None and roadUser2.timeInterval is not None:\n",
    "                i = events.Interaction(useCurvilinear=True, roadUser1=roadUser1, roadUser2=roadUser2)\n",
    "                i.computeIndicators(world=world, alignment1=world.travelledAlignments(roadUser1), alignment2=world.travelledAlignments(roadUser2)) \n",
    "                interactions.append(i)\n",
    "        \n",
    "        # recupérer la valeur minimale des distances entre chaque paire de vehicule \n",
    "        minDistances = [min(i.indicators['Distance'].values.values()) for i in interactions]\n",
    "        plt.figure(num=0)\n",
    "        ax = seaborn.distplot(minDistances, rug=False, hist=True, label='h = '+str(h), norm_hist=True)\n",
    "        # pour chaque tiv testé on obtient la distribution des distances minimales entre chaque paire de véhicules\n",
    "        plt.xlabel(\"distance minimale entre chaque paire de véhicules\")\n",
    "        plt.ylabel(\"proportion\")\n",
    "        ax.legend()\n",
    "\n",
    "        \n",
    "        minDistances = [25,20]#,25,30]\n",
    "        cList[h] = {}\n",
    "        \n",
    "        for distance in minDistances:\n",
    "            duration = []\n",
    "            # rapport durée interaction\n",
    "            for i in interactions:\n",
    "                interactionLength = []\n",
    "                for t in list(i.timeInterval):\n",
    "                    if i.indicators['Distance'].values[t] < distance:\n",
    "                        interactionLength.append(1)\n",
    "                    else:\n",
    "                        interactionLength.append(0)\n",
    "                interactionDuration = sum(toolkit.makeSubListFromList(interactionLength, 1))\n",
    "    #             interactionDuration = interactionDuration / len(list(i.timeInterval))\n",
    "                duration.append(interactionDuration)\n",
    "            durationList[h] = list(filter(lambda v: v !=0, duration))\n",
    "            plt.figure(num=distance)\n",
    "            ax=seaborn.distplot(durationList[h], rug=False, hist=True, label='h = '+str(h)+', d<'+str(distance), norm_hist=False)\n",
    "            plt.xlabel(\"distribution du temps d'interactions entre chaque paire de vehicule\")\n",
    "            plt.ylabel(\"proportion\")\n",
    "            ax.legend()\n",
    "            \n",
    "        plt.figure('distance min')\n",
    "        for i in interactions:\n",
    "            duration2 = []\n",
    "            for i in interactions:\n",
    "                interactionLength2 = []\n",
    "                for t in list(i.timeInterval):\n",
    "                    if i.indicators['Distance'].values[t] == min(i.indicators['Distance'].values.values()):\n",
    "                        interactionLength2.append(1)\n",
    "                    else:\n",
    "                        interactionLength2.append(0)\n",
    "                interactionDuration2 = sum(toolkit.makeSubListFromList(interactionLength2, 1))\n",
    "                duration2.append(interactionDuration2)\n",
    "            durationList2[h] = list(filter(lambda v: v !=0, duration2))\n",
    "            \n",
    "            ax2=seaborn.distplot(durationList2[h], rug=False, hist=True, label='h = '+str(h), norm_hist=False)\n",
    "            plt.xlabel(\"distribution du temps d'interactions entre chaque paire de vehicule = distance minimale\")\n",
    "            plt.ylabel(\"proportion\")\n",
    "            ax2.legend()\n",
    "            "
   ]
  },
  {
   "cell_type": "code",
   "execution_count": 124,
   "metadata": {
    "scrolled": true
   },
   "outputs": [
    {
     "name": "stdout",
     "output_type": "stream",
     "text": [
      "[1.5, 1.7]\n"
     ]
    },
    {
     "data": {
      "text/plain": [
       "<matplotlib.legend.Legend at 0x11e0c6dd8>"
      ]
     },
     "execution_count": 124,
     "metadata": {},
     "output_type": "execute_result"
    },
    {
     "data": {
      "image/png": "[encoded data removed]",
      "text/plain": [
       "<Figure size 432x288 with 1 Axes>"
      ]
     },
     "metadata": {
      "needs_background": "light"
     },
     "output_type": "display_data"
    }
   ],
   "source": [
    "for h in headways:\n",
    "    ax=seaborn.distplot(durationList[h], rug=False, hist=True, label='h = '+str(h), norm_hist=True)\n",
    "\n",
    "plt.xlabel(\"distribution du temps d'interactions entre chaque paire de vehicule\")\n",
    "plt.ylabel(\"proportion\")\n",
    "ax.legend()"
   ]
  },
  {
   "cell_type": "code",
   "execution_count": 119,
   "metadata": {},
   "outputs": [
    {
     "ename": "IndentationError",
     "evalue": "expected an indented block (<ipython-input-119-ffef9fe5f827>, line 13)",
     "output_type": "error",
     "traceback": [
      "\u001b[0;36m  File \u001b[0;32m\"<ipython-input-119-ffef9fe5f827>\"\u001b[0;36m, line \u001b[0;32m13\u001b[0m\n\u001b[0;31m    cList[h][distance] = c/len(world.getNotNoneVehiclesInWorld()[0])\u001b[0m\n\u001b[0m                                                                    ^\u001b[0m\n\u001b[0;31mIndentationError\u001b[0m\u001b[0;31m:\u001b[0m expected an indented block\n"
     ]
    }
   ],
   "source": [
    "            # recupération du nombre d'interactions/nombre de véhicules générés survenant \n",
    "            # à moins de 20/25/30 m pour chaque headway testé\n",
    "            interactionDuration = analysis.getInteractionsDuration(world, dmin=distance, inLine=True)\n",
    "            c = 0 # nombre de fois ou la distance entre les usagers est tombee en dessous du seuil defini\n",
    "            for pair in interactionDuration:\n",
    "                intersectionLength = len(list(moving.TimeInterval.intersection(world.getUserByNum(pair[0]).timeInterval, world.getUserByNum(pair[1]).timeInterval)))\n",
    "                if interactionDuration[pair][0] !=0:\n",
    "                    c += interactionDuration[pair][0]\n",
    "                if intersectionLength != 0:\n",
    "                    \n",
    "\n",
    "        #             interactionLength.append(interactionDuration[pair][1:])\n",
    "            cList[h][distance] = c/len(world.getNotNoneVehiclesInWorld()[0])"
   ]
  },
  {
   "cell_type": "code",
   "execution_count": 112,
   "metadata": {
    "scrolled": true
   },
   "outputs": [
    {
     "ename": "KeyError",
     "evalue": "25",
     "output_type": "error",
     "traceback": [
      "\u001b[0;31m---------------------------------------------------------------\u001b[0m",
      "\u001b[0;31mKeyError\u001b[0m                      Traceback (most recent call last)",
      "\u001b[0;32m<ipython-input-112-de333bfdad96>\u001b[0m in \u001b[0;36m<module>\u001b[0;34m\u001b[0m\n\u001b[1;32m      2\u001b[0m     \u001b[0m_temp\u001b[0m \u001b[0;34m=\u001b[0m \u001b[0;34m[\u001b[0m\u001b[0;34m]\u001b[0m\u001b[0;34m\u001b[0m\u001b[0m\n\u001b[1;32m      3\u001b[0m     \u001b[0;32mfor\u001b[0m \u001b[0mh\u001b[0m \u001b[0;32min\u001b[0m \u001b[0mheadways\u001b[0m\u001b[0;34m:\u001b[0m\u001b[0;34m\u001b[0m\u001b[0m\n\u001b[0;32m----> 4\u001b[0;31m         \u001b[0m_temp\u001b[0m\u001b[0;34m.\u001b[0m\u001b[0mappend\u001b[0m\u001b[0;34m(\u001b[0m\u001b[0mcList\u001b[0m\u001b[0;34m[\u001b[0m\u001b[0mh\u001b[0m\u001b[0;34m]\u001b[0m\u001b[0;34m[\u001b[0m\u001b[0mdistance\u001b[0m\u001b[0;34m]\u001b[0m\u001b[0;34m)\u001b[0m\u001b[0;34m\u001b[0m\u001b[0m\n\u001b[0m\u001b[1;32m      5\u001b[0m     \u001b[0mplt\u001b[0m\u001b[0;34m.\u001b[0m\u001b[0mplot\u001b[0m\u001b[0;34m(\u001b[0m\u001b[0mcList\u001b[0m\u001b[0;34m.\u001b[0m\u001b[0mkeys\u001b[0m\u001b[0;34m(\u001b[0m\u001b[0;34m)\u001b[0m\u001b[0;34m,\u001b[0m \u001b[0m_temp\u001b[0m\u001b[0;34m,\u001b[0m \u001b[0mlabel\u001b[0m\u001b[0;34m=\u001b[0m\u001b[0mstr\u001b[0m\u001b[0;34m(\u001b[0m\u001b[0mdistance\u001b[0m\u001b[0;34m)\u001b[0m\u001b[0;34m+\u001b[0m\u001b[0;34m' m'\u001b[0m\u001b[0;34m)\u001b[0m\u001b[0;34m\u001b[0m\u001b[0m\n\u001b[1;32m      6\u001b[0m     \u001b[0mplt\u001b[0m\u001b[0;34m.\u001b[0m\u001b[0mxlabel\u001b[0m\u001b[0;34m(\u001b[0m\u001b[0;34m'temps inter-véhiculaire'\u001b[0m\u001b[0;34m)\u001b[0m\u001b[0;34m\u001b[0m\u001b[0m\n",
      "\u001b[0;31mKeyError\u001b[0m: 25"
     ]
    }
   ],
   "source": [
    "for distance in minDistances:\n",
    "    _temp = []\n",
    "    for h in headways:\n",
    "        _temp.append(cList[h][distance])    \n",
    "    plt.plot(cList.keys(), _temp, label=str(distance)+' m')\n",
    "    plt.xlabel('temps inter-véhiculaire')\n",
    "    plt.ylabel(\"Nombre d'interactions / Nombre de véhicules générés\")\n",
    "    plt.legend()"
   ]
  },
  {
   "cell_type": "code",
   "execution_count": 47,
   "metadata": {},
   "outputs": [
    {
     "data": {
      "text/plain": [
       "{1.5: {15: 357.54545454545456}}"
      ]
     },
     "execution_count": 47,
     "metadata": {},
     "output_type": "execute_result"
    }
   ],
   "source": [
    "durationList"
   ]
  },
  {
   "cell_type": "code",
   "execution_count": null,
   "metadata": {},
   "outputs": [],
   "source": []
  },
  {
   "cell_type": "code",
   "execution_count": 5,
   "metadata": {},
   "outputs": [
    {
     "name": "stdout",
     "output_type": "stream",
     "text": [
      "trying headway = 0.5\n",
      "115 248925\n",
      "trying headway = 0.6\n",
      "113 240153\n",
      "trying headway = 0.7\n",
      "124 302476\n",
      "trying headway = 0.7999999999999999\n",
      "123 289432\n",
      "trying headway = 0.8999999999999999\n",
      "121 280636\n",
      "trying headway = 0.9999999999999999\n",
      "131 307239\n",
      "trying headway = 1.0999999999999999\n",
      "105 217033\n",
      "trying headway = 1.1999999999999997\n",
      "121 281906\n",
      "trying headway = 1.2999999999999998\n",
      "126 283420\n",
      "trying headway = 1.4\n",
      "103 204036\n",
      "trying headway = 1.4999999999999998\n",
      "123 272086\n",
      "trying headway = 1.5999999999999996\n",
      "112 246593\n",
      "trying headway = 1.6999999999999997\n",
      "121 262874\n",
      "trying headway = 1.7999999999999998\n",
      "110 238880\n",
      "trying headway = 1.8999999999999997\n",
      "120 255540\n",
      "trying headway = 1.9999999999999996\n",
      "95 173925\n"
     ]
    },
    {
     "data": {
      "image/png": "[encoded data removed]",
      "text/plain": [
       "<Figure size 432x288 with 1 Axes>"
      ]
     },
     "metadata": {
      "needs_background": "light"
     },
     "output_type": "display_data"
    }
   ],
   "source": [
    "sim.seed = 45\n",
    "\n",
    "# liste des headways a essayer:\n",
    "headways = [x for x in np.arange(.5,2.1,.1)]\n",
    "# headways = [.8, .9, ]\n",
    "hList = []\n",
    "cList = []\n",
    "for h in headways:\n",
    "    # modification des paramètres dans simple-net.yml\n",
    "    # au cas ou\n",
    "    world = network.World.load('simple-net.yml')  \n",
    "    \n",
    "    world.userInputs[0].distributions['headway'].scale = h\n",
    "\n",
    "    # running the simulation\n",
    "    world = makesimulation.run(world, sim)\n",
    "    print('trying headway = {}'.format(h))\n",
    "    \n",
    "    #get number of interactions\n",
    "    interactionDuration = world.getInteractionsDuration(dmin=25, inLine=True)\n",
    "    c = 0 # nombre d'interaction\n",
    "    s = 0 # duree moyenne des interactions\n",
    "    interactionLength = []\n",
    "    for pair in interactionDuration:\n",
    "        if interactionDuration[pair][0] !=0:\n",
    "            c += interactionDuration[pair][0]\n",
    "            s += sum(interactionDuration[pair][1:])\n",
    "            interactionLength.append(interactionDuration[pair][1:])\n",
    "    print(c, s)\n",
    "    hList.append(1+h)\n",
    "    cList.append(c)\n",
    "plt.plot(hList, cList)\n",
    "plt.show()"
   ]
  },
  {
   "cell_type": "markdown",
   "metadata": {},
   "source": [
    "<br/> Nombre de véhicules simulés/Nombre de véhicules générés : "
   ]
  },
  {
   "cell_type": "markdown",
   "metadata": {},
   "source": [
    "print(str(len(world.getNotNoneVehiclesInWorld()[0])) + '/'+ str(len(world.users)))"
   ]
  },
  {
   "cell_type": "markdown",
   "metadata": {},
   "source": [
    "Distribution des headways observés"
   ]
  },
  {
   "cell_type": "markdown",
   "metadata": {},
   "source": [
    "h = analysis.getHeadwayValues(world)\n",
    "plt.xlabel('headway values')\n",
    "plt.ylabel('Proportions')\n",
    "plt.hist(h[0], density=True, bins = 25)\n",
    "\n",
    "# print(statistics.mean(h[0]))\n",
    "# print(statistics.mean(world.userInputs[0].headways))"
   ]
  },
  {
   "cell_type": "markdown",
   "metadata": {},
   "source": [
    "Distribution des min des distances inter-véhiculaires, pour une coexistence d'une durée minimale de 2 min = 1200 1/10s"
   ]
  },
  {
   "cell_type": "markdown",
   "metadata": {},
   "source": [
    "d = analysis.getMinDistanceBetweenEachPairCF(world, 1200)"
   ]
  },
  {
   "cell_type": "markdown",
   "metadata": {},
   "source": [
    "plt.hist(d, bins=22, density=False)# 'min distance between users', 'proportions')"
   ]
  },
  {
   "cell_type": "markdown",
   "metadata": {},
   "source": [
    "Nombre d'interactions et leur durée observées à une distance < 25 m"
   ]
  },
  {
   "cell_type": "code",
   "execution_count": 36,
   "metadata": {},
   "outputs": [],
   "source": [
    "interactionDuration = world.getInteractionsDuration(dmin=25, inLine=True)"
   ]
  },
  {
   "cell_type": "markdown",
   "metadata": {},
   "source": [
    "c = 0 # nombre d'interaction\n",
    "s = 0 # duree moyenne des interactions\n",
    "interactionLength = []\n",
    "for pair in interactionDuration:\n",
    "    if interactionDuration[pair][0] !=0:\n",
    "        c += interDuration[pair][0]\n",
    "        s += sum(interactionDuration[pair][1:])\n",
    "        interactionLength.append(interactionDuration[pair][1:])\n",
    "print(c, s)"
   ]
  },
  {
   "cell_type": "markdown",
   "metadata": {},
   "source": [
    "Durée moyenne des interactions"
   ]
  },
  {
   "cell_type": "markdown",
   "metadata": {},
   "source": [
    "if c != 0:\n",
    "    print(s/c)"
   ]
  },
  {
   "cell_type": "markdown",
   "metadata": {},
   "source": [
    "distribution de la durée des interactions (ayant lieu a une distance < 25 m)\n",
    "</br>**a voir**"
   ]
  },
  {
   "cell_type": "markdown",
   "metadata": {},
   "source": [
    "plt.hist(interactionLength, bins=3, density=False)"
   ]
  },
  {
   "cell_type": "markdown",
   "metadata": {},
   "source": [
    "Tracé des courbes de TTC"
   ]
  },
  {
   "cell_type": "markdown",
   "metadata": {},
   "source": [
    "minTTCValues = analysis.getTTCValuesForEachPairOfVehicles(world, sim, plot=True)[1]"
   ]
  },
  {
   "cell_type": "markdown",
   "metadata": {},
   "source": [
    "Distribution des TTC min"
   ]
  },
  {
   "cell_type": "markdown",
   "metadata": {},
   "source": [
    "plt.hist(minTTCValues, bins=30, density=True)\n",
    "minTTCValues"
   ]
  },
  {
   "cell_type": "markdown",
   "metadata": {},
   "source": [
    "- headways -> Exp(2, 1)"
   ]
  }
 ],
 "metadata": {
  "kernelspec": {
   "display_name": "Python 3",
   "language": "python",
   "name": "python3"
  },
  "language_info": {
   "codemirror_mode": {
    "name": "ipython",
    "version": 3
   },
   "file_extension": ".py",
   "mimetype": "text/x-python",
   "name": "python",
   "nbconvert_exporter": "python",
   "pygments_lexer": "ipython3",
   "version": "3.7.0"
  }
 },
 "nbformat": 4,
 "nbformat_minor": 2
}
