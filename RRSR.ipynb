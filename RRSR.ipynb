{
 "cells": [
  {
   "cell_type": "markdown",
   "metadata": {},
   "source": [
    "# Analyse de l'influence des distributions des temps inter-véhiculaires sur un axe routier"
   ]
  },
  {
   "cell_type": "markdown",
   "metadata": {},
   "source": [
    "Paramètres de simulation:\n",
    "- 1 voie\n",
    "- longueur de la voie : 15900 m\n",
    "- présence d'outils de contrôle de la circulation : non\n",
    "- paramètres de distribution \n",
    "    <br/> dn -> N(8.33, 1) [m]\n",
    "    <br/> longueur -> N(7, 1) [m]\n",
    "    <br/> vitesse -> N(14, 3) [m.s^-1]\n",
    "    <br/> t -> N(2, 0.5) [s]\n",
    "- durée de la simulation : 500 s = 5000 1/10s   \n",
    "- seed pour reproductibilité : 45"
   ]
  },
  {
   "cell_type": "markdown",
   "metadata": {},
   "source": [
    "import des librairies:"
   ]
  },
  {
   "cell_type": "code",
   "execution_count": 1,
   "metadata": {},
   "outputs": [
    {
     "name": "stdout",
     "output_type": "stream",
     "text": [
      "OpenCV library could not be loaded (video replay functions will not be available)\n"
     ]
    }
   ],
   "source": [
    "import sys\n",
    "sys.path.append('/Users/lionel/Documents/Cours Polytechnique Montréal/Maitrise/github/projetmaitrise/modules') \n",
    "import numpy as np  \n",
    "import network, simulation \n",
    "import makesimulation \n",
    "import matplotlib.pyplot as plt\n",
    "import analysis\n",
    "import statistics\n"
   ]
  },
  {
   "cell_type": "markdown",
   "metadata": {},
   "source": [
    "Récupération des fichiers initiaux"
   ]
  },
  {
   "cell_type": "code",
   "execution_count": 2,
   "metadata": {},
   "outputs": [],
   "source": [
    "world = network.World.load('inputData/simple-net.yml')  \n",
    "sim = simulation.Simulation.load('inputData/config.yml')"
   ]
  },
  {
   "cell_type": "markdown",
   "metadata": {},
   "source": [
    "tracé des trajectoires selon les différentes valeurs des distribution pour les headway"
   ]
  },
  {
   "cell_type": "markdown",
   "metadata": {},
   "source": [
    "- headways -> Exp(1.8, 1)\n",
    "</br> On décalle la distribution à 1s % les temps inter-véhiculaires produits ne seront pas inférieurs à cette valeur"
   ]
  },
  {
   "cell_type": "code",
   "execution_count": 7,
   "metadata": {},
   "outputs": [
    {
     "name": "stdout",
     "output_type": "stream",
     "text": [
      "trying headway = 0.8\n",
      "123 289432\n",
      "trying headway = 0.9\n",
      "121 280636\n"
     ]
    },
    {
     "data": {
      "image/png": "[encoded data removed]",
      "text/plain": [
       "<Figure size 432x288 with 1 Axes>"
      ]
     },
     "metadata": {
      "needs_background": "light"
     },
     "output_type": "display_data"
    }
   ],
   "source": [
    "# liste des headways a essayer:\n",
    "# headways = [x for x in np.arange(.5,2.1,.1)]\n",
    "headways = [.8, .9]\n",
    "for h in headways:\n",
    "    # modification des paramètres dans simple-net.yml\n",
    "    # au cas ou\n",
    "    world = network.World.load('inputData/simple-net.yml')  \n",
    "    \n",
    "    world.userInputs[0].distributions['headway'].scale = h\n",
    "\n",
    "    # running the simulation\n",
    "    world = makesimulation.run(world, sim)\n",
    "    print('trying headway = {}'.format(h))\n",
    "    \n",
    "    #get number of interactions\n",
    "    interactionDuration = world.getInteractionsDuration(dmin=25, inLine=True)\n",
    "    c = 0 # nombre d'interaction\n",
    "    s = 0 # duree moyenne des interactions\n",
    "    interactionLength = []\n",
    "    for pair in interactionDuration:\n",
    "        if interactionDuration[pair][0] !=0:\n",
    "            c += interactionDuration[pair][0]\n",
    "            s += sum(interactionDuration[pair][1:])\n",
    "            interactionLength.append(interactionDuration[pair][1:])\n",
    "    print(c, s)\n",
    "    \n",
    "    plt.plot(h, c)\n",
    "\n",
    "plt.show()\n",
    "    \n",
    "    "
   ]
  },
  {
   "cell_type": "markdown",
   "metadata": {},
   "source": [
    "<br/> Nombre de véhicules simulés/Nombre de véhicules générés : "
   ]
  },
  {
   "cell_type": "code",
   "execution_count": 29,
   "metadata": {},
   "outputs": [
    {
     "name": "stdout",
     "output_type": "stream",
     "text": [
      "152/268\n"
     ]
    }
   ],
   "source": [
    "print(str(len(world.getNotNoneVehiclesInWorld()[0])) + '/'+ str(len(world.users)))"
   ]
  },
  {
   "cell_type": "markdown",
   "metadata": {},
   "source": [
    "Distribution des headways observés"
   ]
  },
  {
   "cell_type": "code",
   "execution_count": 30,
   "metadata": {},
   "outputs": [
    {
     "data": {
      "text/plain": [
       "(array([1.07475635, 0.93796917, 0.72301791, 0.50806664, 0.33219742,\n",
       "        0.41036151, 0.1563282 , 0.21495127, 0.19541024, 0.09770512,\n",
       "        0.05862307, 0.13678717, 0.05862307, 0.01954102, 0.03908205,\n",
       "        0.03908205, 0.01954102, 0.05862307, 0.05862307, 0.0781641 ,\n",
       "        0.        , 0.        , 0.        , 0.        , 0.01954102]),\n",
       " array([1.01845862, 1.20940784, 1.40035705, 1.59130627, 1.78225548,\n",
       "        1.9732047 , 2.16415392, 2.35510313, 2.54605235, 2.73700156,\n",
       "        2.92795078, 3.11889999, 3.30984921, 3.50079842, 3.69174764,\n",
       "        3.88269685, 4.07364607, 4.26459528, 4.4555445 , 4.64649371,\n",
       "        4.83744293, 5.02839214, 5.21934136, 5.41029057, 5.60123979,\n",
       "        5.792189  ]),\n",
       " <a list of 25 Patch objects>)"
      ]
     },
     "execution_count": 30,
     "metadata": {},
     "output_type": "execute_result"
    },
    {
     "data": {
      "image/png": "[encoded data removed]",
      "text/plain": [
       "<Figure size 432x288 with 1 Axes>"
      ]
     },
     "metadata": {
      "needs_background": "light"
     },
     "output_type": "display_data"
    }
   ],
   "source": [
    "h = analysis.getHeadwayValues(world)\n",
    "plt.xlabel('headway values')\n",
    "plt.ylabel('Proportions')\n",
    "plt.hist(h[0], density=True, bins = 25)\n",
    "\n",
    "# print(statistics.mean(h[0]))\n",
    "# print(statistics.mean(world.userInputs[0].headways))"
   ]
  },
  {
   "cell_type": "markdown",
   "metadata": {},
   "source": [
    "Distribution des min des distances inter-véhiculaires, pour une coexistence d'une durée minimale de 2 min = 1200 1/10s"
   ]
  },
  {
   "cell_type": "code",
   "execution_count": 31,
   "metadata": {},
   "outputs": [],
   "source": [
    "d = analysis.getMinDistanceBetweenEachPairC F(world, 1200)"
   ]
  },
  {
   "cell_type": "code",
   "execution_count": 32,
   "metadata": {},
   "outputs": [
    {
     "data": {
      "text/plain": [
       "(array([ 2.,  4.,  9., 11., 18., 18., 13.,  9., 11.,  5.,  4.,  3.,  3.,\n",
       "         3.,  1.,  1.,  1.,  0.,  0.,  0.,  1.,  2.]),\n",
       " array([13.25974847, 14.52629299, 15.79283751, 17.05938204, 18.32592656,\n",
       "        19.59247108, 20.85901561, 22.12556013, 23.39210465, 24.65864918,\n",
       "        25.9251937 , 27.19173822, 28.45828275, 29.72482727, 30.99137179,\n",
       "        32.25791632, 33.52446084, 34.79100536, 36.05754989, 37.32409441,\n",
       "        38.59063893, 39.85718346, 41.12372798]),\n",
       " <a list of 22 Patch objects>)"
      ]
     },
     "execution_count": 32,
     "metadata": {},
     "output_type": "execute_result"
    },
    {
     "data": {
      "image/png": "[encoded data removed]",
      "text/plain": [
       "<Figure size 432x288 with 1 Axes>"
      ]
     },
     "metadata": {
      "needs_background": "light"
     },
     "output_type": "display_data"
    }
   ],
   "source": [
    "plt.hist(d, bins=22, density=False)# 'min distance between users', 'proportions')"
   ]
  },
  {
   "cell_type": "markdown",
   "metadata": {},
   "source": [
    "Nombre d'interactions et leur durée observées à une distance < 25 m"
   ]
  },
  {
   "cell_type": "code",
   "execution_count": 36,
   "metadata": {},
   "outputs": [],
   "source": [
    "interactionDuration = world.getInteractionsDuration(dmin=25, inLine=True)"
   ]
  },
  {
   "cell_type": "code",
   "execution_count": 37,
   "metadata": {},
   "outputs": [
    {
     "ename": "KeyError",
     "evalue": "(140, 141)",
     "output_type": "error",
     "traceback": [
      "\u001b[0;31m---------------------------------------------------------------------------\u001b[0m",
      "\u001b[0;31mKeyError\u001b[0m                                  Traceback (most recent call last)",
      "\u001b[0;32m<ipython-input-37-1a3cfb864463>\u001b[0m in \u001b[0;36m<module>\u001b[0;34m\u001b[0m\n\u001b[1;32m      4\u001b[0m \u001b[0;32mfor\u001b[0m \u001b[0mpair\u001b[0m \u001b[0;32min\u001b[0m \u001b[0minteractionDuration\u001b[0m\u001b[0;34m:\u001b[0m\u001b[0;34m\u001b[0m\u001b[0m\n\u001b[1;32m      5\u001b[0m     \u001b[0;32mif\u001b[0m \u001b[0minteractionDuration\u001b[0m\u001b[0;34m[\u001b[0m\u001b[0mpair\u001b[0m\u001b[0;34m]\u001b[0m\u001b[0;34m[\u001b[0m\u001b[0;36m0\u001b[0m\u001b[0;34m]\u001b[0m \u001b[0;34m!=\u001b[0m\u001b[0;36m0\u001b[0m\u001b[0;34m:\u001b[0m\u001b[0;34m\u001b[0m\u001b[0m\n\u001b[0;32m----> 6\u001b[0;31m         \u001b[0mc\u001b[0m \u001b[0;34m+=\u001b[0m \u001b[0minterDuration\u001b[0m\u001b[0;34m[\u001b[0m\u001b[0mpair\u001b[0m\u001b[0;34m]\u001b[0m\u001b[0;34m[\u001b[0m\u001b[0;36m0\u001b[0m\u001b[0;34m]\u001b[0m\u001b[0;34m\u001b[0m\u001b[0m\n\u001b[0m\u001b[1;32m      7\u001b[0m         \u001b[0ms\u001b[0m \u001b[0;34m+=\u001b[0m \u001b[0msum\u001b[0m\u001b[0;34m(\u001b[0m\u001b[0minteractionDuration\u001b[0m\u001b[0;34m[\u001b[0m\u001b[0mpair\u001b[0m\u001b[0;34m]\u001b[0m\u001b[0;34m[\u001b[0m\u001b[0;36m1\u001b[0m\u001b[0;34m:\u001b[0m\u001b[0;34m]\u001b[0m\u001b[0;34m)\u001b[0m\u001b[0;34m\u001b[0m\u001b[0m\n\u001b[1;32m      8\u001b[0m         \u001b[0minteractionLength\u001b[0m\u001b[0;34m.\u001b[0m\u001b[0mappend\u001b[0m\u001b[0;34m(\u001b[0m\u001b[0minteractionDuration\u001b[0m\u001b[0;34m[\u001b[0m\u001b[0mpair\u001b[0m\u001b[0;34m]\u001b[0m\u001b[0;34m[\u001b[0m\u001b[0;36m1\u001b[0m\u001b[0;34m:\u001b[0m\u001b[0;34m]\u001b[0m\u001b[0;34m)\u001b[0m\u001b[0;34m\u001b[0m\u001b[0m\n",
      "\u001b[0;31mKeyError\u001b[0m: (140, 141)"
     ]
    }
   ],
   "source": [
    "c = 0 # nombre d'interaction\n",
    "s = 0 # duree moyenne des interactions\n",
    "interactionLength = []\n",
    "for pair in interactionDuration:\n",
    "    if interactionDuration[pair][0] !=0:\n",
    "        c += interDuration[pair][0]\n",
    "        s += sum(interactionDuration[pair][1:])\n",
    "        interactionLength.append(interactionDuration[pair][1:])\n",
    "print(c, s)"
   ]
  },
  {
   "cell_type": "markdown",
   "metadata": {},
   "source": [
    "Durée moyenne des interactions"
   ]
  },
  {
   "cell_type": "code",
   "execution_count": null,
   "metadata": {},
   "outputs": [],
   "source": [
    "if c != 0:\n",
    "    print(s/c)"
   ]
  },
  {
   "cell_type": "markdown",
   "metadata": {},
   "source": [
    "distribution de la durée des interactions (ayant lieu a une distance < 25 m)\n",
    "</br>**a voir**"
   ]
  },
  {
   "cell_type": "code",
   "execution_count": null,
   "metadata": {},
   "outputs": [],
   "source": [
    "plt.hist(interactionLength, bins=3, density=False)"
   ]
  },
  {
   "cell_type": "markdown",
   "metadata": {},
   "source": [
    "Tracé des courbes de TTC"
   ]
  },
  {
   "cell_type": "markdown",
   "metadata": {},
   "source": [
    "minTTCValues = analysis.getTTCValuesForEachPairOfVehicles(world, sim, plot=True)[1]"
   ]
  },
  {
   "cell_type": "markdown",
   "metadata": {},
   "source": [
    "Distribution des TTC min"
   ]
  },
  {
   "cell_type": "markdown",
   "metadata": {},
   "source": [
    "plt.hist(minTTCValues, bins=30, density=True)\n",
    "minTTCValues"
   ]
  },
  {
   "cell_type": "markdown",
   "metadata": {},
   "source": [
    "- headways -> Exp(2, 1)"
   ]
  }
 ],
 "metadata": {
  "kernelspec": {
   "display_name": "Python 3",
   "language": "python",
   "name": "python3"
  },
  "language_info": {
   "codemirror_mode": {
    "name": "ipython",
    "version": 3
   },
   "file_extension": ".py",
   "mimetype": "text/x-python",
   "name": "python",
   "nbconvert_exporter": "python",
   "pygments_lexer": "ipython3",
   "version": "3.7.0"
  }
 },
 "nbformat": 4,
 "nbformat_minor": 2
}
