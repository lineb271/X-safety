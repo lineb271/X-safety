{
 "cells": [
  {
   "cell_type": "markdown",
   "metadata": {},
   "source": [
    "#\tPré-requis\n",
    "\n",
    "##\tPython 3.7\n",
    "L’ensemble des scripts de l’outils sont écrits en langage Python. La version utilisée est Python 3.7.\n",
    "\n",
    "#Module Trafficintelligence\n",
    "Afin d’utiliser l’outil de simulation, il est nécessaire d’installer le module ‘Trafficintelligence’ développé par le professeur Nicolas Saunier et ses collaborateurs. \n",
    "Disponible à l’adresse suivante : https://bitbucket.org/Nicolas/trafficintelligence/ \n",
    "Le package est également installable via PIP\n",
    "Pour plus d’informations, se référer à la documentation en ligne.\n",
    "\n",
    "##\tModules annexes\n",
    "Certains des modules suivants sont préalablement installés avec Python 3.7, d’autres nécessitent une installation de votre part.\n",
    "-\tCopy\n",
    "-\tItertools\n",
    "-\tMaths\n",
    "-\tMatplotlib\n",
    "-\tNetworkx\n",
    "-\tNumpy\n",
    "-\tScipy\n",
    "Tous ces modules sont disponibles via PIP.\n",
    "\n",
    "\n",
    "\n",
    "\n"
   ]
  },
  {
   "cell_type": "markdown",
   "metadata": {},
   "source": [
    "# Création d’un monde\n",
    "##\tAlignements\n",
    "Un alignement est un objet de type moving.Trajectory. Par exemple, si vous souhaitez créer un alignement droit d'une largeur de 3.7m, partant du point A(0,0) allant au point B(0,600), suivre les étapes suivantes :"
   ]
  },
  {
   "cell_type": "code",
   "execution_count": null,
   "metadata": {},
   "outputs": [],
   "source": [
    "from trafficintelligence import moving \n",
    "import network\n",
    "\n",
    "A = moving.Point(0,0)\n",
    "B = moving.Point(0,600)\n",
    "alignmentPoints = moving.Trajectory.fromPointList([A,B])\n",
    "\n",
    "alignment = network.Alignment(idx=0, width=3.7, points=alignmentPoints)"
   ]
  },
  {
   "cell_type": "markdown",
   "metadata": {},
   "source": [
    "## Distributions\n",
    "Une distribution est un objet de type network.Distribution. Il est utile lors de la création de générateur d'utilisateurs. Une distribution permet de représenter une distribution par ses paramètres(moyenne, écart-type, et constante dans le cas d'une distribution dégénérée, courbe de fréquences cumulées, nom, et type de la distribution. \n",
    "Ainsi, chaque variable soumise à un tirage aléatoire prend ses paramètres à partir de cet objet Distribution.\n",
    "Pour un usager, il est nécessaire d'instancier les paramètres tau, dn, headway, length, speed:"
   ]
  },
  {
   "cell_type": "code",
   "execution_count": null,
   "metadata": {},
   "outputs": [],
   "source": [
    "distributions = dict('dn': network.Distribution(cdf=None,\n",
    "                                                degeneratedConstant=None,\n",
    "                                                distributionName='norm', \n",
    "                                                distributionType='theoric', \n",
    "                                                loc=8.333333,\n",
    "                                                scale=1), \n",
    "                     'headway':network.Distribution(cdf=None,\n",
    "                                                degeneratedConstant=None,\n",
    "                                                distributionName='expon', \n",
    "                                                distributionType='theoric', \n",
    "                                                loc=1.5,\n",
    "                                                scale=2.1),\n",
    "                     'length':network.Distribution(cdf=None,\n",
    "                                                degeneratedConstant=None,\n",
    "                                                distributionName='norm', \n",
    "                                                distributionType='theoric', \n",
    "                                                loc=7,\n",
    "                                                scale=1),\n",
    "                     'speed':network.Distribution(cdf=None,\n",
    "                                                degeneratedConstant=None,\n",
    "                                                distributionName='norm', \n",
    "                                                distributionType='theoric', \n",
    "                                                loc=14,\n",
    "                                                scale=3),\n",
    "                     'tau':network.Distribution(cdf=None,\n",
    "                                                degeneratedConstant=None,\n",
    "                                                distributionName='norm', \n",
    "                                                distributionType='theoric', \n",
    "                                                loc=2,\n",
    "                                                scale=.5))\n"
   ]
  },
  {
   "cell_type": "markdown",
   "metadata": {},
   "source": [
    "## Générateurs d'utilisateurs\n",
    "Un générateur d'utilisaterus est un object de type network.UserInput. Il s'agit d'un point d'entrée sur le réseau qui attribue aux usagers produits des caractéristiques(longueur du véhicule, dn, t, temps inter-véhiculaire, vitesse désirée)  è partir de distributions aléatoires propres à chaque point d'entrée.\n",
    "Afin de créer un générateur d'usagers relié à l'alignement précédemment crée, suivre les étapes suivantes:"
   ]
  },
  {
   "cell_type": "code",
   "execution_count": null,
   "metadata": {},
   "outputs": [],
   "source": [
    "userInput = network.UserInput(idx=0, alignmentIdx=alignment.idx,\n",
    "                          distributions=distributions)"
   ]
  },
  {
   "cell_type": "markdown",
   "metadata": {},
   "source": [
    "## Dispositifs de contrôle\n",
    "Un dispositif de contrôle est un objet de type network.ControlDevice. Cette structure de donnée permet de prendre en compte des signalisation d'arrêt, de cédez le passage, ainsi que des feux tricolores. Un dispositif de contrôle est forcément lié à un alignement. On crée ici un panneau d'arrêt."
   ]
  },
  {
   "cell_type": "code",
   "execution_count": null,
   "metadata": {},
   "outputs": [],
   "source": [
    "controlDevice = network.ControlDevice(idx = 0, \n",
    "                           initialState = 'stop',\n",
    "                           alignmentIdx=0,\n",
    "                           greenTime=0,\n",
    "                           redTime=float('inf'), \n",
    "                           category=1)  "
   ]
  },
  {
   "cell_type": "markdown",
   "metadata": {},
   "source": [
    "## Monde\n",
    "Le 'monde' est la structure de données qui rassemble les alignements, dispositifs de contrôle, générateurs d'usagers, et les usagers (la créatiob de ceux-ci est traitée par la suite). Il est nécessaire d'ajouter tous ces attributs à l'objet network.World crée, puis de lier l'objet World à un graphe."
   ]
  },
  {
   "cell_type": "code",
   "execution_count": null,
   "metadata": {},
   "outputs": [],
   "source": [
    "# création de l'objet World\n",
    "world = networkd.World(alignments = [alignment], \n",
    "                       controlDevices = [cd], \n",
    "                       userInputs = [userInput])\n",
    "# corresponsdance des extremites de l'alignement avec les futures noeuds du graphe\n",
    "world.getAlignmentById(alignment.idx).graphCorrespondance = [0,1]\n",
    "# liaison du graphe au monde\n",
    "world.getGraph()"
   ]
  },
  {
   "cell_type": "markdown",
   "metadata": {},
   "source": [
    "Vous avez maintenant crée un monde où il sera possible de générer des usagers qui circuleront.\n",
    "![alt text](monde.png \"monde dessin\")\n",
    "\n",
    "\n",
    "\n"
   ]
  },
  {
   "cell_type": "markdown",
   "metadata": {},
   "source": [
    "# Paramètres de simulation\n",
    "## Simulation\n",
    "\n"
   ]
  },
  {
   "cell_type": "markdown",
   "metadata": {},
   "source": [
    "# Simulation de trafic routier sur un lien"
   ]
  },
  {
   "cell_type": "markdown",
   "metadata": {},
   "source": [
    "# Analyse des données produites"
   ]
  },
  {
   "cell_type": "code",
   "execution_count": null,
   "metadata": {},
   "outputs": [],
   "source": []
  }
 ],
 "metadata": {
  "kernelspec": {
   "display_name": "Python 3",
   "language": "python",
   "name": "python3"
  },
  "language_info": {
   "codemirror_mode": {
    "name": "ipython",
    "version": 3
   },
   "file_extension": ".py",
   "mimetype": "text/x-python",
   "name": "python",
   "nbconvert_exporter": "python",
   "pygments_lexer": "ipython3",
   "version": "3.7.0"
  }
 },
 "nbformat": 4,
 "nbformat_minor": 2
}
